{
 "cells": [
  {
   "cell_type": "markdown",
   "id": "ab78e6b5-026b-4790-a04a-7f65b667488a",
   "metadata": {
    "tags": []
   },
   "source": [
    "<h1>My Jupyter Notebook on IBM Watson Studio</h1>"
   ]
  },
  {
   "cell_type": "markdown",
   "id": "c1b67366-1478-4b2e-9532-d7b0fcbc94dd",
   "metadata": {},
   "source": [
    "**Fajar Rohmaji**"
   ]
  },
  {
   "cell_type": "markdown",
   "id": "05418cd1-1995-404f-8a1d-a77badf49876",
   "metadata": {},
   "source": [
    "<h2>I am interested in data science because I love to gain insight from data</h2>"
   ]
  },
  {
   "cell_type": "code",
   "execution_count": 2,
   "id": "266d5799-a1ba-4839-bc0f-06fa10f2c372",
   "metadata": {},
   "outputs": [
    {
     "data": {
      "text/plain": [
       "True"
      ]
     },
     "execution_count": 2,
     "metadata": {},
     "output_type": "execute_result"
    }
   ],
   "source": [
    "def gaus(n):\n",
    "    return (n*(n+1)/2)\n",
    "gaus(100) == sum(range(101))"
   ]
  },
  {
   "cell_type": "markdown",
   "id": "9737ce38-3a58-4dd3-8f89-b836e5301e7c",
   "metadata": {
    "tags": []
   },
   "source": [
    "- one\n",
    "- two\n",
    "- three\n",
    "\n",
    "1. satu\n",
    "2. dua\n",
    "3. tiga\n",
    "\n",
    "<hr>© IBM Corporation 2020. All rights reserved.</hr>\n",
    "\n",
    "\n",
    "\n",
    "__[IBM](http://www.ibm.com)__"
   ]
  }
 ],
 "metadata": {
  "kernelspec": {
   "display_name": "Python",
   "language": "python",
   "name": "conda-env-python-py"
  },
  "language_info": {
   "codemirror_mode": {
    "name": "ipython",
    "version": 3
   },
   "file_extension": ".py",
   "mimetype": "text/x-python",
   "name": "python",
   "nbconvert_exporter": "python",
   "pygments_lexer": "ipython3",
   "version": "3.7.12"
  }
 },
 "nbformat": 4,
 "nbformat_minor": 5
}
